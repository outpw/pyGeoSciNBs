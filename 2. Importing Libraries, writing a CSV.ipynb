{
 "cells": [
  {
   "cell_type": "markdown",
   "metadata": {},
   "source": [
    "## Let's talk Libraries \n",
    "\n",
    "Python libraries, that is. Python is of course open source, and many developers create libraries (aka packages, aka modules) that you can import. This is wonderful because it means you don't have to write your own code from scratch. You can just use tools others have created to accomplish a task.\n",
    "\n",
    "There are thousands of libraries available in the [Python Package Index](https://pypi.org/) (AKA pip)\n",
    "\n",
    "Not all libraries come prinstalled with Python, so you often need to install them separately--which is thankfully super-easy. Just open a command terminal and type pip install [package name]. For example, 'pip install requests'. The [requests](https://pypi.org/project/requests/) module is for requesting urls over the internet. (We'll use that later)\n",
    "\n",
    "To import an external library into your Python script/Notebook, you simply type import followed by the name of the package.\n",
    "\n",
    "In this example, we'll import the package os, which is used to navigate your file system:\n",
    "\n",
    "    >>>import os"
   ]
  },
  {
   "cell_type": "code",
   "execution_count": 1,
   "metadata": {},
   "outputs": [],
   "source": []
  },
  {
   "cell_type": "markdown",
   "metadata": {},
   "source": [
    "os is pretty essential for reading, writing, and working with files on your computer. You *could* manually type the full file path of a file everytime you wanted to read it, but it's much easier to just tell Python you're working in a certain folder.\n",
    "\n",
    "You can check to see what directory you're currently in (aka, your current working directory) like so:\n",
    "\n",
    "    >>> os.getcwd()"
   ]
  },
  {
   "cell_type": "code",
   "execution_count": null,
   "metadata": {},
   "outputs": [],
   "source": []
  },
  {
   "cell_type": "markdown",
   "metadata": {},
   "source": [
    "If you want to change directories, you use chdir(), like so:\n",
    "\n",
    "    >>> os.chdir('Data')\n",
    "    >>> os.getcwd()"
   ]
  },
  {
   "cell_type": "code",
   "execution_count": null,
   "metadata": {},
   "outputs": [],
   "source": []
  },
  {
   "cell_type": "markdown",
   "metadata": {},
   "source": [
    "Be mindful when using os. It is easy to get lost in your file directory. If you can't find the file or folder you're in, try going backwards. '.,/' lets you go backwards one directory (folder):\n",
    "\n",
    "    >>> os.chdir('../')\n",
    "    >>> os.getcwd()"
   ]
  },
  {
   "cell_type": "code",
   "execution_count": null,
   "metadata": {},
   "outputs": [],
   "source": []
  },
  {
   "cell_type": "markdown",
   "metadata": {},
   "source": [
    "#### Sometimes, it's helpful to give a library an alias just to save you some typing.  \n",
    "For example, most people import the pandas library simpy as pd. (The extra a's, n, and s is quite burdensome).  \n",
    "\n",
    "You can do so like this:\n",
    "\n",
    "    >>> import pandas as pd\n",
    "    \n",
    "This way instead of typing out pandas you can just type out pd."
   ]
  },
  {
   "cell_type": "code",
   "execution_count": null,
   "metadata": {},
   "outputs": [],
   "source": []
  },
  {
   "cell_type": "markdown",
   "metadata": {},
   "source": [
    "#### You can also just import one piece of a library. \n",
    "\n",
    "Here is an example using the time library. First, import the library the regular way:\n",
    "\n",
    "    >>> import time"
   ]
  },
  {
   "cell_type": "code",
   "execution_count": null,
   "metadata": {},
   "outputs": [],
   "source": []
  },
  {
   "cell_type": "markdown",
   "metadata": {},
   "source": [
    "#### Now borrow some code from our previous notebook:\n",
    "\n",
    "    >>> numList = [1, 2, 3, 10, 20, 33, 584]"
   ]
  },
  {
   "cell_type": "code",
   "execution_count": null,
   "metadata": {},
   "outputs": [],
   "source": []
  },
  {
   "cell_type": "markdown",
   "metadata": {},
   "source": [
    "Run the loop, as before:\n",
    "    \n",
    "    >>> for num in numList:\n",
    "            ans = num + 3\n",
    "            print(ans)"
   ]
  },
  {
   "cell_type": "code",
   "execution_count": null,
   "metadata": {},
   "outputs": [],
   "source": []
  },
  {
   "cell_type": "markdown",
   "metadata": {},
   "source": [
    "The code executes so fast to appear instant. Perhaps you want to pause one second between each iteration. You could use the sleep function from the time library like so:\n",
    "\n",
    "    >>>for num in numList:\n",
    "           time.sleep(1)\n",
    "           ans=num + 3\n",
    "           print(ans)"
   ]
  },
  {
   "cell_type": "code",
   "execution_count": null,
   "metadata": {},
   "outputs": [],
   "source": []
  },
  {
   "cell_type": "markdown",
   "metadata": {},
   "source": [
    "Neat! The loop took a 1 second nap between each iteration.\n",
    "\n",
    "#### Now say you're too tired and lazy and vexed to type \"time.sleep\" and just want to type sleep. \n",
    "Start by importing just sleep from time:\n",
    "\n",
    "    >>> from time import sleep"
   ]
  },
  {
   "cell_type": "code",
   "execution_count": null,
   "metadata": {},
   "outputs": [],
   "source": []
  },
  {
   "cell_type": "markdown",
   "metadata": {},
   "source": [
    "Now run the loop again, but this time just use sleep():\n",
    "\n",
    "    >>> for num in numList:\n",
    "            sleep(1)\n",
    "            ans = num+3\n",
    "            print(ans)"
   ]
  },
  {
   "cell_type": "code",
   "execution_count": null,
   "metadata": {},
   "outputs": [],
   "source": []
  },
  {
   "cell_type": "markdown",
   "metadata": {},
   "source": [
    "### This is mainly important because when you're searching around for code on the web, often you see libraries imported like this. \n",
    "Developers obsess over efficiency. \n",
    "\n",
    "### Now let's use the csv module to create a csv.\n",
    "\n",
    "    >>> import csv"
   ]
  },
  {
   "cell_type": "code",
   "execution_count": null,
   "metadata": {},
   "outputs": [],
   "source": []
  },
  {
   "cell_type": "markdown",
   "metadata": {},
   "source": [
    "We'll start by creating a new, blank csv:\n",
    "\n",
    "    >>> newFile = open('my_file.csv', 'w', newline='')"
   ]
  },
  {
   "cell_type": "code",
   "execution_count": null,
   "metadata": {},
   "outputs": [],
   "source": []
  },
  {
   "cell_type": "markdown",
   "metadata": {},
   "source": [
    "The 'w' in there means we opend it in write mode. You could replace that with 'a' to open in append mode if you don't want to completely overwrite the file.\n",
    "\n",
    "Let's write a new row to your my_file.csv. Start by creating a variable named writer that contains the writer() function from the csv library. Again, storing this in a variable just makes our code a little easier to read & digest.\n",
    "\n",
    "    >>> writer = csv.writer(newFile)"
   ]
  },
  {
   "cell_type": "code",
   "execution_count": null,
   "metadata": {},
   "outputs": [],
   "source": []
  },
  {
   "cell_type": "markdown",
   "metadata": {},
   "source": [
    "Now deploy your writer to write the first row of your csv like so:\n",
    "\n",
    "    >>>writer.writerow(['column1', 'column2', 'column3'])"
   ]
  },
  {
   "cell_type": "code",
   "execution_count": null,
   "metadata": {},
   "outputs": [],
   "source": []
  },
  {
   "cell_type": "markdown",
   "metadata": {},
   "source": [
    "Now close the file:\n",
    "\n",
    "    >>> newFile.close()"
   ]
  },
  {
   "cell_type": "code",
   "execution_count": null,
   "metadata": {},
   "outputs": [],
   "source": []
  },
  {
   "cell_type": "markdown",
   "metadata": {},
   "source": [
    "Take a peek in your JupyterHub home directory and you should see the new file. You can click on it and take a look, too.\n",
    "\n",
    "Now, reopen your file, this time in append mode:\n",
    "\n",
    "    >>> newFile = open('my_file.csv', 'a' newline='')\n",
    "    \n",
    "#### *In the same codeblock* you will need to rerun the writer variable code you created above:\n",
    "\n",
    "    >>> writer = csv.writer(newFile)\n",
    "    \n",
    "#### *In the same codeblock* we will use our loop to write the answer of our math problem into new rows of the csv:\n",
    "\n",
    "    >>> for num in numList:\n",
    "            ans = num + 3\n",
    "            writer.writerow([ans])"
   ]
  },
  {
   "cell_type": "code",
   "execution_count": null,
   "metadata": {},
   "outputs": [],
   "source": []
  },
  {
   "cell_type": "markdown",
   "metadata": {},
   "source": [
    "#### Close the file:\n",
    "\n",
    "    >>> newFile.close()"
   ]
  },
  {
   "cell_type": "code",
   "execution_count": null,
   "metadata": {},
   "outputs": [],
   "source": []
  },
  {
   "cell_type": "markdown",
   "metadata": {},
   "source": [
    "Now take another peek at the file in your home directory to see the results."
   ]
  },
  {
   "cell_type": "code",
   "execution_count": null,
   "metadata": {},
   "outputs": [],
   "source": []
  }
 ],
 "metadata": {
  "kernelspec": {
   "display_name": "Python 3",
   "language": "python",
   "name": "python3"
  },
  "language_info": {
   "codemirror_mode": {
    "name": "ipython",
    "version": 3
   },
   "file_extension": ".py",
   "mimetype": "text/x-python",
   "name": "python",
   "nbconvert_exporter": "python",
   "pygments_lexer": "ipython3",
   "version": "3.7.4"
  }
 },
 "nbformat": 4,
 "nbformat_minor": 2
}
