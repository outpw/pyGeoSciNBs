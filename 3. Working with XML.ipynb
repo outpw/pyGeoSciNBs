{
 "cells": [
  {
   "cell_type": "markdown",
   "metadata": {},
   "source": [
    "## Dealing with XML\n",
    "\n",
    "Extensible Markup Language is an open standard data format. It is a nested or hierarchical. It is popular with libraries. \n",
    "\n",
    "It can also be a pain! In this notebook, we'll run through parsing the nested data elements of an xml file into a flat csv file that is easier for hoomans like us to work with.\n",
    "\n",
    "The Python library elementTree is used for working with XML, we'll import it below as well as a few other libraries:\n",
    "\n",
    "Import the following libraries:\n",
    "\n",
    "    >>> import os\n",
    "    >>> imort csv\n",
    "    >>> import xml.etree.cElementTree as et"
   ]
  },
  {
   "cell_type": "code",
   "execution_count": 70,
   "metadata": {},
   "outputs": [],
   "source": [
    "import os\n",
    "import csv\n",
    "import xml.etree.cElementTree as et"
   ]
  },
  {
   "cell_type": "markdown",
   "metadata": {},
   "source": [
    "#### It's a good habit to check your working directory\n",
    "\n",
    "    >>> os.getcwd()"
   ]
  },
  {
   "cell_type": "code",
   "execution_count": 2,
   "metadata": {},
   "outputs": [
    {
     "data": {
      "text/plain": [
       "'C:\\\\Users\\\\phwh9568'"
      ]
     },
     "execution_count": 2,
     "metadata": {},
     "output_type": "execute_result"
    }
   ],
   "source": [
    "os.getcwd()"
   ]
  },
  {
   "cell_type": "markdown",
   "metadata": {},
   "source": [
    "### It's helpful to look at the xml side by side while parsing it with Python so you can more easily navigate and understand its nested structure.\n",
    "\n",
    "We'll work with the books.xml file in your JupyterHub home directory. \n",
    "\n",
    "Here it is, for reference, but you could also download the books.xml file and open it in notepad:\n",
    "\n",
    "<pre><code> \n",
    "&lt;?xml version=\"1.0\"?&gt;\n",
    "&lt;catalog&gt;\n",
    "   &lt;book id=\"bk101\"&gt;\n",
    "      &lt;author&gt;Gambardella, Matthew&lt;/author&gt;\n",
    "      &lt;title&gt;XML Developer's Guide&lt;/title&gt;\n",
    "      &lt;genre&gt;Computer&lt;/genre&gt;\n",
    "      &lt;price&gt;44.95&lt;/price&gt;\n",
    "      &lt;publish_date&gt;2000-10-01&lt;/publish_date&gt;\n",
    "      &lt;description&gt;An in-depth look at creating applications \n",
    "      with XML.&lt;/description&gt;\n",
    "   &lt;/book&gt;\n",
    "   &lt;book id=\"bk102\"&gt;\n",
    "      &lt;author&gt;Ralls, Kim&lt;/author&gt;\n",
    "      &lt;title&gt;Midnight Rain&lt;/title&gt;\n",
    "      &lt;genre&gt;Fantasy&lt;/genre&gt;\n",
    "      &lt;price&gt;5.95&lt;/price&gt;\n",
    "      &lt;publish_date&gt;2000-12-16&lt;/publish_date&gt;\n",
    "      &lt;description&gt;A former architect battles corporate zombies, \n",
    "      an evil sorceress, and her own childhood to become queen \n",
    "      of the world.&lt;/description&gt;\n",
    "   &lt;/book&gt;\n",
    "   &lt;book id=\"bk103\"&gt;\n",
    "      &lt;author&gt;Corets, Eva&lt;/author&gt;\n",
    "      &lt;title&gt;Maeve Ascendant&lt;/title&gt;\n",
    "      &lt;genre&gt;Fantasy&lt;/genre&gt;\n",
    "      &lt;price&gt;5.95&lt;/price&gt;\n",
    "      &lt;publish_date&gt;2000-11-17&lt;/publish_date&gt;\n",
    "      &lt;description&gt;After the collapse of a nanotechnology \n",
    "      society in England, the young survivors lay the \n",
    "      foundation for a new society.&lt;/description&gt;\n",
    "   &lt;/book&gt;\n",
    "   &lt;book id=\"bk104\"&gt;\n",
    "      &lt;author&gt;Corets, Eva&lt;/author&gt;\n",
    "      &lt;title&gt;Oberon's Legacy&lt;/title&gt;\n",
    "      &lt;genre&gt;Fantasy&lt;/genre&gt;\n",
    "      &lt;price&gt;5.95&lt;/price&gt;\n",
    "      &lt;publish_date&gt;2001-03-10&lt;/publish_date&gt;\n",
    "      &lt;description&gt;In post-apocalypse England, the mysterious \n",
    "      agent known only as Oberon helps to create a new life \n",
    "      for the inhabitants of London. Sequel to Maeve \n",
    "      Ascendant.&lt;/description&gt;\n",
    "   &lt;/book&gt;\n",
    "   &lt;book id=\"bk105\"&gt;\n",
    "      &lt;author&gt;Corets, Eva&lt;/author&gt;\n",
    "      &lt;title&gt;The Sundered Grail&lt;/title&gt;\n",
    "      &lt;genre&gt;Fantasy&lt;/genre&gt;\n",
    "      &lt;price&gt;5.95&lt;/price&gt;\n",
    "      &lt;publish_date&gt;2001-09-10&lt;/publish_date&gt;\n",
    "      &lt;description&gt;The two daughters of Maeve, half-sisters, \n",
    "      battle one another for control of England. Sequel to \n",
    "      Oberon's Legacy.&lt;/description&gt;\n",
    "   &lt;/book&gt;\n",
    "   &lt;book id=\"bk106\"&gt;\n",
    "      &lt;author&gt;Randall, Cynthia&lt;/author&gt;\n",
    "      &lt;title&gt;Lover Birds&lt;/title&gt;\n",
    "      &lt;genre&gt;Romance&lt;/genre&gt;\n",
    "      &lt;price&gt;4.95&lt;/price&gt;\n",
    "      &lt;publish_date&gt;2000-09-02&lt;/publish_date&gt;\n",
    "      &lt;description&gt;When Carla meets Paul at an ornithology \n",
    "      conference, tempers fly as feathers get ruffled.&lt;/description&gt;\n",
    "   &lt;/book&gt;\n",
    "   &lt;book id=\"bk107\"&gt;\n",
    "      &lt;author&gt;Thurman, Paula&lt;/author&gt;\n",
    "      &lt;title&gt;Splish Splash&lt;/title&gt;\n",
    "      &lt;genre&gt;Romance&lt;/genre&gt;\n",
    "      &lt;price&gt;4.95&lt;/price&gt;\n",
    "      &lt;publish_date&gt;2000-11-02&lt;/publish_date&gt;\n",
    "      &lt;description&gt;A deep sea diver finds true love twenty \n",
    "      thousand leagues beneath the sea.&lt;/description&gt;\n",
    "   &lt;/book&gt;\n",
    "   &lt;book id=\"bk108\"&gt;\n",
    "      &lt;author&gt;Knorr, Stefan&lt;/author&gt;\n",
    "      &lt;title&gt;Creepy Crawlies&lt;/title&gt;\n",
    "      &lt;genre&gt;Horror&lt;/genre&gt;\n",
    "      &lt;price&gt;4.95&lt;/price&gt;\n",
    "      &lt;publish_date&gt;2000-12-06&lt;/publish_date&gt;\n",
    "      &lt;description&gt;An anthology of horror stories about roaches,\n",
    "      centipedes, scorpions  and other insects.&lt;/description&gt;\n",
    "   &lt;/book&gt;\n",
    "   &lt;book id=\"bk109\"&gt;\n",
    "      &lt;author&gt;Kress, Peter&lt;/author&gt;\n",
    "      &lt;title&gt;Paradox Lost&lt;/title&gt;\n",
    "      &lt;genre&gt;Science Fiction&lt;/genre&gt;\n",
    "      &lt;price&gt;6.95&lt;/price&gt;\n",
    "      &lt;publish_date&gt;2000-11-02&lt;/publish_date&gt;\n",
    "      &lt;description&gt;After an inadvertant trip through a Heisenberg\n",
    "      Uncertainty Device, James Salway discovers the problems \n",
    "      of being quantum.&lt;/description&gt;\n",
    "   &lt;/book&gt;\n",
    "   &lt;book id=\"bk110\"&gt;\n",
    "      &lt;author&gt;O'Brien, Tim&lt;/author&gt;\n",
    "      &lt;title&gt;Microsoft .NET: The Programming Bible&lt;/title&gt;\n",
    "      &lt;genre&gt;Computer&lt;/genre&gt;\n",
    "      &lt;price&gt;36.95&lt;/price&gt;\n",
    "      &lt;publish_date&gt;2000-12-09&lt;/publish_date&gt;\n",
    "      &lt;description&gt;Microsoft's .NET initiative is explored in \n",
    "      detail in this deep programmer's reference.&lt;/description&gt;\n",
    "   &lt;/book&gt;\n",
    "   &lt;book id=\"bk111\"&gt;\n",
    "      &lt;author&gt;O'Brien, Tim&lt;/author&gt;\n",
    "      &lt;title&gt;MSXML3: A Comprehensive Guide&lt;/title&gt;\n",
    "      &lt;genre&gt;Computer&lt;/genre&gt;\n",
    "      &lt;price&gt;36.95&lt;/price&gt;\n",
    "      &lt;publish_date&gt;2000-12-01&lt;/publish_date&gt;\n",
    "      &lt;description&gt;The Microsoft MSXML3 parser is covered in \n",
    "      detail, with attention to XML DOM interfaces, XSLT processing, \n",
    "      SAX and more.&lt;/description&gt;\n",
    "   &lt;/book&gt;\n",
    "   &lt;book id=\"bk112\"&gt;\n",
    "      &lt;author&gt;Galos, Mike&lt;/author&gt;\n",
    "      &lt;title&gt;Visual Studio 7: A Comprehensive Guide&lt;/title&gt;\n",
    "      &lt;genre&gt;Computer&lt;/genre&gt;\n",
    "      &lt;price&gt;49.95&lt;/price&gt;\n",
    "      &lt;publish_date&gt;2001-04-16&lt;/publish_date&gt;\n",
    "      &lt;description&gt;Microsoft Visual Studio 7 is explored in depth,\n",
    "      looking at how Visual Basic, Visual C++, C#, and ASP+ are \n",
    "      integrated into a comprehensive development \n",
    "      environment.&lt;/description&gt;\n",
    "   &lt;/book&gt;\n",
    "&lt;/catalog&gt;\n",
    "</code></pre>\n",
    "\n",
    "#### Note that there is a top level element in which all others are nested: &lt;catalog&gt;\n",
    "\n",
    "\"catalog\" is the *root element.* Within catalog, there is a book tag, and then item level information like author, title, genre, etc.\n",
    "\n",
    "Start by opening the books.xml file as a variable named xml:\n",
    "\n",
    "    >>> xml = open('books.xml')"
   ]
  },
  {
   "cell_type": "code",
   "execution_count": 23,
   "metadata": {},
   "outputs": [],
   "source": [
    "xml = open('books.xml')"
   ]
  },
  {
   "cell_type": "code",
   "execution_count": 38,
   "metadata": {},
   "outputs": [
    {
     "data": {
      "text/plain": [
       "<_io.TextIOWrapper name='books.xml' mode='r' encoding='cp1252'>"
      ]
     },
     "execution_count": 38,
     "metadata": {},
     "output_type": "execute_result"
    }
   ],
   "source": [
    "xml"
   ]
  },
  {
   "cell_type": "markdown",
   "metadata": {},
   "source": [
    "#### Now we'll use elementTree (as et) to read it.\n",
    "\n",
    "    >>> data = et.parse(xml)"
   ]
  },
  {
   "cell_type": "code",
   "execution_count": 24,
   "metadata": {},
   "outputs": [],
   "source": [
    "data = et.parse(xml)"
   ]
  },
  {
   "cell_type": "markdown",
   "metadata": {},
   "source": [
    "#### Now Python knows it is XML. "
   ]
  },
  {
   "cell_type": "code",
   "execution_count": 27,
   "metadata": {},
   "outputs": [
    {
     "name": "stdout",
     "output_type": "stream",
     "text": [
      "<xml.etree.ElementTree.ElementTree object at 0x0000018EC5307788>\n"
     ]
    }
   ],
   "source": [
    "print(data)"
   ]
  },
  {
   "cell_type": "markdown",
   "metadata": {},
   "source": [
    "#### Next, we'll use the getroot() function to identify the root element, which we know is 'catalog':\n",
    "\n",
    "    >>> root = data.getroot()\n",
    "    >>> print(root)"
   ]
  },
  {
   "cell_type": "code",
   "execution_count": 28,
   "metadata": {},
   "outputs": [],
   "source": [
    "root = data.getroot()"
   ]
  },
  {
   "cell_type": "code",
   "execution_count": 32,
   "metadata": {},
   "outputs": [
    {
     "name": "stdout",
     "output_type": "stream",
     "text": [
      "<Element 'catalog' at 0x0000018EC5305DB8>\n"
     ]
    }
   ],
   "source": [
    "print(root)"
   ]
  },
  {
   "cell_type": "markdown",
   "metadata": {},
   "source": [
    "#### Now, we know the next element down from 'catalog' is 'book', and there are a bunch of them. But how many are there?\n",
    "\n",
    "Use the length function len() function to find out:\n",
    "    \n",
    "    >>> len(root)"
   ]
  },
  {
   "cell_type": "code",
   "execution_count": 41,
   "metadata": {},
   "outputs": [
    {
     "data": {
      "text/plain": [
       "12"
      ]
     },
     "execution_count": 41,
     "metadata": {},
     "output_type": "execute_result"
    }
   ],
   "source": [
    "len(root)"
   ]
  },
  {
   "cell_type": "markdown",
   "metadata": {},
   "source": [
    "#### Great. We know there are 12 books in the catalog.\n",
    "\n",
    "To access an individual xml element, we can locate it using it's index position. Remember indexing?\n",
    "\n",
    "try this:\n",
    "\n",
    "    >>> book1 = root[0]\n",
    "    >>> print(book1)"
   ]
  },
  {
   "cell_type": "code",
   "execution_count": 56,
   "metadata": {},
   "outputs": [
    {
     "name": "stdout",
     "output_type": "stream",
     "text": [
      "<Element 'book' at 0x0000018EC5309228>\n"
     ]
    }
   ],
   "source": [
    "book1 = root[0]\n",
    "print(book1)"
   ]
  },
  {
   "cell_type": "markdown",
   "metadata": {},
   "source": [
    "#### Note that the first book under catalog has an id nested in it's tag... \n",
    "\n",
    "Looks like this: &lt;book id=\"bk101\"&gt;\n",
    "\n",
    "The id within the book tag is called an attribute. We can access the attribute easily:\n",
    "\n",
    "    >>> print(book1.attrib)"
   ]
  },
  {
   "cell_type": "code",
   "execution_count": 57,
   "metadata": {},
   "outputs": [
    {
     "name": "stdout",
     "output_type": "stream",
     "text": [
      "{'id': 'bk101'}\n"
     ]
    }
   ],
   "source": [
    "print(book1.attrib)"
   ]
  },
  {
   "cell_type": "markdown",
   "metadata": {},
   "source": [
    "#### Cool! Now let's use find(). \n",
    "\n",
    "We can go and find known child elements using the find() function. \n",
    "\n",
    "Try this:\n",
    "\n",
    "    >>> auth = book1.find('author')\n",
    "    >>> print(auth)"
   ]
  },
  {
   "cell_type": "code",
   "execution_count": 60,
   "metadata": {},
   "outputs": [
    {
     "name": "stdout",
     "output_type": "stream",
     "text": [
      "<Element 'author' at 0x0000018EC5309278>\n"
     ]
    }
   ],
   "source": [
    "auth = book1.find('author')\n",
    "print (auth)"
   ]
  },
  {
   "cell_type": "markdown",
   "metadata": {},
   "source": [
    "#### But that only gives us the tag. We want the text within the tag.... EASY!\n",
    "\n",
    "    >>> auth = book1.find('author').text\n",
    "    >>> print (auth)"
   ]
  },
  {
   "cell_type": "code",
   "execution_count": 61,
   "metadata": {},
   "outputs": [
    {
     "name": "stdout",
     "output_type": "stream",
     "text": [
      "Gambardella, Matthew\n"
     ]
    }
   ],
   "source": [
    "auth = book1.find('author').text\n",
    "print (auth)"
   ]
  },
  {
   "cell_type": "markdown",
   "metadata": {},
   "source": [
    "### Sweet!\n",
    "\n",
    "#### You've parsed xml. Now, try to repeat that process for the remaining elements under book1.\n",
    "They are 'title', 'genre', 'price', 'publish_date', and 'description'\n",
    "\n",
    "Good Luck! \n",
    "\n",
    "*Tip: insert new cells with the plus sign button*"
   ]
  },
  {
   "cell_type": "code",
   "execution_count": null,
   "metadata": {},
   "outputs": [],
   "source": []
  },
  {
   "cell_type": "markdown",
   "metadata": {},
   "source": [
    "## Now let's work on parsing more than just one element at a time. \n",
    "\n",
    "#### What do we do when we want to iterate over a bunch of items? *For Loops!*\n",
    "\n",
    "Let's start back at root. It's easy to loop over the 12 books:\n",
    "\n",
    "    >>> for book in root:\n",
    "            print(book)"
   ]
  },
  {
   "cell_type": "code",
   "execution_count": 62,
   "metadata": {},
   "outputs": [
    {
     "name": "stdout",
     "output_type": "stream",
     "text": [
      "<Element 'book' at 0x0000018EC5309228>\n",
      "<Element 'book' at 0x0000018EC5309548>\n",
      "<Element 'book' at 0x0000018EC5309818>\n",
      "<Element 'book' at 0x0000018EC5309A98>\n",
      "<Element 'book' at 0x0000018EC5309DB8>\n",
      "<Element 'book' at 0x0000018EC530D138>\n",
      "<Element 'book' at 0x0000018EC530D408>\n",
      "<Element 'book' at 0x0000018EC530D688>\n",
      "<Element 'book' at 0x0000018EC530D908>\n",
      "<Element 'book' at 0x0000018EC530DBD8>\n",
      "<Element 'book' at 0x0000018EC52E6C78>\n",
      "<Element 'book' at 0x0000018EC530DD18>\n"
     ]
    }
   ],
   "source": [
    "for book in root:\n",
    "    print(book)"
   ]
  },
  {
   "cell_type": "markdown",
   "metadata": {},
   "source": [
    "#### If you like, you could print each book's id by printing it's attribute:\n",
    "\n",
    "    >>> for book in root:\n",
    "            print (book.attrib)"
   ]
  },
  {
   "cell_type": "code",
   "execution_count": 63,
   "metadata": {},
   "outputs": [
    {
     "name": "stdout",
     "output_type": "stream",
     "text": [
      "{'id': 'bk101'}\n",
      "{'id': 'bk102'}\n",
      "{'id': 'bk103'}\n",
      "{'id': 'bk104'}\n",
      "{'id': 'bk105'}\n",
      "{'id': 'bk106'}\n",
      "{'id': 'bk107'}\n",
      "{'id': 'bk108'}\n",
      "{'id': 'bk109'}\n",
      "{'id': 'bk110'}\n",
      "{'id': 'bk111'}\n",
      "{'id': 'bk112'}\n"
     ]
    }
   ],
   "source": [
    "for book in root:\n",
    "    print(book.attrib)"
   ]
  },
  {
   "cell_type": "markdown",
   "metadata": {},
   "source": [
    "#### How might we print all of the books' titles?\n",
    "\n",
    "It's the same... we'll use find just as before, except we'll build it into the loop:\n",
    "\n",
    "    >>> for book in root:\n",
    "            title = book.find('title').text\n",
    "            print(title)"
   ]
  },
  {
   "cell_type": "code",
   "execution_count": 64,
   "metadata": {},
   "outputs": [
    {
     "name": "stdout",
     "output_type": "stream",
     "text": [
      "XML Developer's Guide\n",
      "Midnight Rain\n",
      "Maeve Ascendant\n",
      "Oberon's Legacy\n",
      "The Sundered Grail\n",
      "Lover Birds\n",
      "Splish Splash\n",
      "Creepy Crawlies\n",
      "Paradox Lost\n",
      "Microsoft .NET: The Programming Bible\n",
      "MSXML3: A Comprehensive Guide\n",
      "Visual Studio 7: A Comprehensive Guide\n"
     ]
    }
   ],
   "source": [
    "for book in root:\n",
    "    title = book.find('title').text\n",
    "    print(title)"
   ]
  },
  {
   "cell_type": "markdown",
   "metadata": {},
   "source": [
    "## Niiiiiiice!\n",
    "\n",
    "#### Experiment a little with printing out some of the books' different elements using find() nested in a For Loop.\n"
   ]
  },
  {
   "cell_type": "code",
   "execution_count": null,
   "metadata": {},
   "outputs": [],
   "source": []
  },
  {
   "cell_type": "code",
   "execution_count": null,
   "metadata": {},
   "outputs": [],
   "source": []
  },
  {
   "cell_type": "code",
   "execution_count": null,
   "metadata": {},
   "outputs": [],
   "source": []
  },
  {
   "cell_type": "markdown",
   "metadata": {},
   "source": [
    "## Let's get fancy.\n",
    "\n",
    "#### Now we will parse our xml data and write the individual elements to a csv. \n",
    "\n",
    "We will start by opening a new csv file named 'catalog.csv' as a variable named newFile:\n",
    "\n",
    "    >>> newFile = open('catalog.csv', 'w', newline = '', encoding='utf-8')"
   ]
  },
  {
   "cell_type": "code",
   "execution_count": 65,
   "metadata": {},
   "outputs": [],
   "source": [
    "newFile = open('catalog.csv', 'w', newline = '', encoding = 'utf-8')"
   ]
  },
  {
   "cell_type": "markdown",
   "metadata": {},
   "source": [
    "#### As before, we will create a variable named 'writer' from the csv library:\n",
    "\n",
    "    >>> writer = csv.writer(newFile)"
   ]
  },
  {
   "cell_type": "code",
   "execution_count": 66,
   "metadata": {},
   "outputs": [],
   "source": [
    "writer = csv.writer(newFile)"
   ]
  },
  {
   "cell_type": "markdown",
   "metadata": {},
   "source": [
    "#### Go ahead and create a header row for the csv. \n",
    "\n",
    "Use writer.writerow and enter the titles you want for each column as a list of strings (text). Remember that lists are in sqaure brackets [ ]? You can pass your list of column headers into the writerow function and it will write each element of the list as a new column in the csv.\n",
    "\n",
    "    >>> writer.writerow(['author', 'title', 'genre', 'price', 'date', 'description'])\n",
    "    \n",
    "*Tip: you could also just store the list in a headers variable and pass the variable into the function*"
   ]
  },
  {
   "cell_type": "code",
   "execution_count": 67,
   "metadata": {},
   "outputs": [
    {
     "data": {
      "text/plain": [
       "43"
      ]
     },
     "execution_count": 67,
     "metadata": {},
     "output_type": "execute_result"
    }
   ],
   "source": [
    "writer.writerow(['author', 'title', 'genre', 'price', 'date', 'description'])"
   ]
  },
  {
   "cell_type": "markdown",
   "metadata": {},
   "source": [
    "#### In the previous notebook, we iterated over a list of numbers to write results of a math problem to a csv. We'll do the same this time, except we'll loop over books, find each element, and write the results to new rows in the csv.\n",
    "\n",
    "Instead of finding each element (author, title, etc.) in different loops, we can just put it all in oen loop. You will create variables to capture the text of each element then write each one to a new row in the csv:\n",
    "\n",
    "    >>> for book in root:\n",
    "            author = book.find('author').text\n",
    "            title = book.find('title'.text\n",
    "            genre = book.find('genre').text\n",
    "            price = book.find('price').text\n",
    "            date = book.find('publish_date').text\n",
    "            desc = book.find('description).text\n",
    "            writer.writerow([author, title, genre, price, date, desc])"
   ]
  },
  {
   "cell_type": "code",
   "execution_count": 68,
   "metadata": {},
   "outputs": [],
   "source": [
    "for book in root:\n",
    "    author = book.find('author').text\n",
    "    title = book.find('title').text\n",
    "    genre = book.find('genre').text\n",
    "    price = book.find('price').text\n",
    "    date = book.find('publish_date').text\n",
    "    desc = book.find('description').text\n",
    "    writer.writerow([author, title, genre, price, date, desc])"
   ]
  },
  {
   "cell_type": "code",
   "execution_count": 69,
   "metadata": {},
   "outputs": [],
   "source": [
    "newFile.close()"
   ]
  },
  {
   "cell_type": "markdown",
   "metadata": {},
   "source": [
    "## Sick! Now you're ready to start dealing with API responses."
   ]
  },
  {
   "cell_type": "code",
   "execution_count": null,
   "metadata": {},
   "outputs": [],
   "source": []
  }
 ],
 "metadata": {
  "kernelspec": {
   "display_name": "Python 3",
   "language": "python",
   "name": "python3"
  },
  "language_info": {
   "codemirror_mode": {
    "name": "ipython",
    "version": 3
   },
   "file_extension": ".py",
   "mimetype": "text/x-python",
   "name": "python",
   "nbconvert_exporter": "python",
   "pygments_lexer": "ipython3",
   "version": "3.7.4"
  }
 },
 "nbformat": 4,
 "nbformat_minor": 2
}
