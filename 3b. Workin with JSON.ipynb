{
 "cells": [
  {
   "cell_type": "markdown",
   "metadata": {},
   "source": [
    "## Workin' with JSON\n",
    "\n",
    "JavaScript Object Notation is another data format often used by APIs. It is similar to XML in that it is nested, or hierarchical. Some say it is easier to work with than XML. \n",
    "\n",
    "In terms of data exchange on the internet, it is very popular with developers. If you're working with APIs, you're more likely to encounter JSON than XML. Some APIs provide data in either format, others one or the other. But most REST APIs are JSON. \n",
    "\n",
    "You can quickly tell if something is JSON formatted by the curly brackets: { }. In contrast to XML, which uses tags: < >. \n",
    "\n",
    "Working with JSON in Python is pretty easy because the tags are removed. Instead of tags, there are key/value relationships. Or, in Python speak, you can work with JSON as if it is a Python dictionary. The earlier notebooks didn't cover that, so don't worry about the details here. :-) \n",
    "\n",
    "    >>> import json\n",
    "    >>> import os\n",
    "    >>> import csv"
   ]
  },
  {
   "cell_type": "code",
   "execution_count": 1,
   "metadata": {},
   "outputs": [],
   "source": [
    "import json\n",
    "import os\n",
    "import csv"
   ]
  },
  {
   "cell_type": "markdown",
   "metadata": {},
   "source": [
    "#### As before, open the file\n",
    "\n",
    "The same book catalog data is also in the home directory in json format. Open the file and store it as a variable named 'file'\n",
    "\n",
    "    >>> file = open('books.json')\n",
    "    >>> file"
   ]
  },
  {
   "cell_type": "code",
   "execution_count": 16,
   "metadata": {},
   "outputs": [],
   "source": [
    "file = open('books.json')"
   ]
  },
  {
   "cell_type": "code",
   "execution_count": 13,
   "metadata": {},
   "outputs": [
    {
     "data": {
      "text/plain": [
       "<_io.TextIOWrapper name='books.json' mode='r' encoding='cp1252'>"
      ]
     },
     "execution_count": 13,
     "metadata": {},
     "output_type": "execute_result"
    }
   ],
   "source": [
    "file"
   ]
  },
  {
   "cell_type": "markdown",
   "metadata": {},
   "source": [
    "#### Use the json.load() function to read 'file' as JSON.\n",
    "\n",
    "The JSON library lets Python read JSON. Store it as a new variable named 'data'\n",
    "\n",
    "    >>> data = json.load(file)"
   ]
  },
  {
   "cell_type": "code",
   "execution_count": 17,
   "metadata": {},
   "outputs": [],
   "source": [
    "data = json.load(file)"
   ]
  },
  {
   "cell_type": "markdown",
   "metadata": {},
   "source": [
    "#### Let's take a look at the data.\n",
    "\n",
    "You can use the print() function, however, it will display better if you just run 'data' on it's on. Try both to see the difference.\n",
    "\n",
    "    >>> print(data)\n",
    "    >>> data\n",
    "    \n",
    "*Take a minute to review this format and compare to the same data in XML*"
   ]
  },
  {
   "cell_type": "code",
   "execution_count": 32,
   "metadata": {},
   "outputs": [
    {
     "data": {
      "text/plain": [
       "{'catalog': {'book': [{'@id': 'bk101',\n",
       "    'author': 'Gambardella, Matthew',\n",
       "    'title': \"XML Developer's Guide\",\n",
       "    'genre': 'Computer',\n",
       "    'price': '44.95',\n",
       "    'publish_date': '2000-10-01',\n",
       "    'description': 'An in-depth look at creating applications with XML.'},\n",
       "   {'@id': 'bk102',\n",
       "    'author': 'Ralls, Kim',\n",
       "    'title': 'Midnight Rain',\n",
       "    'genre': 'Fantasy',\n",
       "    'price': '5.95',\n",
       "    'publish_date': '2000-12-16',\n",
       "    'description': 'A former architect battles corporate zombies, an evil sorceress, and her own childhood to become queen of the world.'},\n",
       "   {'@id': 'bk103',\n",
       "    'author': 'Corets, Eva',\n",
       "    'title': 'Maeve Ascendant',\n",
       "    'genre': 'Fantasy',\n",
       "    'price': '5.95',\n",
       "    'publish_date': '2000-11-17',\n",
       "    'description': 'After the collapse of a nanotechnology society in England, the young survivors lay the foundation for a new society.'},\n",
       "   {'@id': 'bk104',\n",
       "    'author': 'Corets, Eva',\n",
       "    'title': \"Oberon's Legacy\",\n",
       "    'genre': 'Fantasy',\n",
       "    'price': '5.95',\n",
       "    'publish_date': '2001-03-10',\n",
       "    'description': 'In post-apocalypse England, the mysterious agent known only as Oberon helps to create a new life for the inhabitants of London. Sequel to Maeve Ascendant.'},\n",
       "   {'@id': 'bk105',\n",
       "    'author': 'Corets, Eva',\n",
       "    'title': 'The Sundered Grail',\n",
       "    'genre': 'Fantasy',\n",
       "    'price': '5.95',\n",
       "    'publish_date': '2001-09-10',\n",
       "    'description': \"The two daughters of Maeve, half-sisters, battle one another for control of England. Sequel to Oberon's Legacy.\"},\n",
       "   {'@id': 'bk106',\n",
       "    'author': 'Randall, Cynthia',\n",
       "    'title': 'Lover Birds',\n",
       "    'genre': 'Romance',\n",
       "    'price': '4.95',\n",
       "    'publish_date': '2000-09-02',\n",
       "    'description': 'When Carla meets Paul at an ornithology conference, tempers fly as feathers get ruffled.'},\n",
       "   {'@id': 'bk107',\n",
       "    'author': 'Thurman, Paula',\n",
       "    'title': 'Splish Splash',\n",
       "    'genre': 'Romance',\n",
       "    'price': '4.95',\n",
       "    'publish_date': '2000-11-02',\n",
       "    'description': 'A deep sea diver finds true love twenty thousand leagues beneath the sea.'},\n",
       "   {'@id': 'bk108',\n",
       "    'author': 'Knorr, Stefan',\n",
       "    'title': 'Creepy Crawlies',\n",
       "    'genre': 'Horror',\n",
       "    'price': '4.95',\n",
       "    'publish_date': '2000-12-06',\n",
       "    'description': 'An anthology of horror stories about roaches,centipedes, scorpions  and other insects.'},\n",
       "   {'@id': 'bk109',\n",
       "    'author': 'Kress, Peter',\n",
       "    'title': 'Paradox Lost',\n",
       "    'genre': 'Science Fiction',\n",
       "    'price': '6.95',\n",
       "    'publish_date': '2000-11-02',\n",
       "    'description': 'After an inadvertant trip through a HeisenbergUncertainty Device, James Salway discovers the problems of being quantum.'},\n",
       "   {'@id': 'bk110',\n",
       "    'author': \"O'Brien, Tim\",\n",
       "    'title': 'Microsoft .NET: The Programming Bible',\n",
       "    'genre': 'Computer',\n",
       "    'price': '36.95',\n",
       "    'publish_date': '2000-12-09',\n",
       "    'description': \"Microsoft's .NET initiative is explored in detail in this deep programmer's reference.\"},\n",
       "   {'@id': 'bk111',\n",
       "    'author': \"O'Brien, Tim\",\n",
       "    'title': 'MSXML3: A Comprehensive Guide',\n",
       "    'genre': 'Computer',\n",
       "    'price': '36.95',\n",
       "    'publish_date': '2000-12-01',\n",
       "    'description': 'The Microsoft MSXML3 parser is covered in detail, with attention to XML DOM interfaces, XSLT processing, SAX and more.'},\n",
       "   {'@id': 'bk112',\n",
       "    'author': 'Galos, Mike',\n",
       "    'title': 'Visual Studio 7: A Comprehensive Guide',\n",
       "    'genre': 'Computer',\n",
       "    'price': '49.95',\n",
       "    'publish_date': '2001-04-16',\n",
       "    'description': 'Microsoft Visual Studio 7 is explored in depth,looking at how Visual Basic, Visual C++, C#, and ASP+ are integrated into a comprehensive development environment.'}]}}"
      ]
     },
     "execution_count": 32,
     "metadata": {},
     "output_type": "execute_result"
    }
   ],
   "source": [
    "data"
   ]
  },
  {
   "cell_type": "markdown",
   "metadata": {},
   "source": [
    "#### Navigating JSON with Python is pretty easy...\n",
    "\n",
    "Just list the next lowest element on the hierarchy in brackets, like this:\n",
    "\n",
    "    >>> data['catalog']"
   ]
  },
  {
   "cell_type": "code",
   "execution_count": 21,
   "metadata": {},
   "outputs": [
    {
     "data": {
      "text/plain": [
       "{'book': [{'@id': 'bk101',\n",
       "   'author': 'Gambardella, Matthew',\n",
       "   'title': \"XML Developer's Guide\",\n",
       "   'genre': 'Computer',\n",
       "   'price': '44.95',\n",
       "   'publish_date': '2000-10-01',\n",
       "   'description': 'An in-depth look at creating applications with XML.'},\n",
       "  {'@id': 'bk102',\n",
       "   'author': 'Ralls, Kim',\n",
       "   'title': 'Midnight Rain',\n",
       "   'genre': 'Fantasy',\n",
       "   'price': '5.95',\n",
       "   'publish_date': '2000-12-16',\n",
       "   'description': 'A former architect battles corporate zombies, an evil sorceress, and her own childhood to become queen of the world.'},\n",
       "  {'@id': 'bk103',\n",
       "   'author': 'Corets, Eva',\n",
       "   'title': 'Maeve Ascendant',\n",
       "   'genre': 'Fantasy',\n",
       "   'price': '5.95',\n",
       "   'publish_date': '2000-11-17',\n",
       "   'description': 'After the collapse of a nanotechnology society in England, the young survivors lay the foundation for a new society.'},\n",
       "  {'@id': 'bk104',\n",
       "   'author': 'Corets, Eva',\n",
       "   'title': \"Oberon's Legacy\",\n",
       "   'genre': 'Fantasy',\n",
       "   'price': '5.95',\n",
       "   'publish_date': '2001-03-10',\n",
       "   'description': 'In post-apocalypse England, the mysterious agent known only as Oberon helps to create a new life for the inhabitants of London. Sequel to Maeve Ascendant.'},\n",
       "  {'@id': 'bk105',\n",
       "   'author': 'Corets, Eva',\n",
       "   'title': 'The Sundered Grail',\n",
       "   'genre': 'Fantasy',\n",
       "   'price': '5.95',\n",
       "   'publish_date': '2001-09-10',\n",
       "   'description': \"The two daughters of Maeve, half-sisters, battle one another for control of England. Sequel to Oberon's Legacy.\"},\n",
       "  {'@id': 'bk106',\n",
       "   'author': 'Randall, Cynthia',\n",
       "   'title': 'Lover Birds',\n",
       "   'genre': 'Romance',\n",
       "   'price': '4.95',\n",
       "   'publish_date': '2000-09-02',\n",
       "   'description': 'When Carla meets Paul at an ornithology conference, tempers fly as feathers get ruffled.'},\n",
       "  {'@id': 'bk107',\n",
       "   'author': 'Thurman, Paula',\n",
       "   'title': 'Splish Splash',\n",
       "   'genre': 'Romance',\n",
       "   'price': '4.95',\n",
       "   'publish_date': '2000-11-02',\n",
       "   'description': 'A deep sea diver finds true love twenty thousand leagues beneath the sea.'},\n",
       "  {'@id': 'bk108',\n",
       "   'author': 'Knorr, Stefan',\n",
       "   'title': 'Creepy Crawlies',\n",
       "   'genre': 'Horror',\n",
       "   'price': '4.95',\n",
       "   'publish_date': '2000-12-06',\n",
       "   'description': 'An anthology of horror stories about roaches,centipedes, scorpions  and other insects.'},\n",
       "  {'@id': 'bk109',\n",
       "   'author': 'Kress, Peter',\n",
       "   'title': 'Paradox Lost',\n",
       "   'genre': 'Science Fiction',\n",
       "   'price': '6.95',\n",
       "   'publish_date': '2000-11-02',\n",
       "   'description': 'After an inadvertant trip through a HeisenbergUncertainty Device, James Salway discovers the problems of being quantum.'},\n",
       "  {'@id': 'bk110',\n",
       "   'author': \"O'Brien, Tim\",\n",
       "   'title': 'Microsoft .NET: The Programming Bible',\n",
       "   'genre': 'Computer',\n",
       "   'price': '36.95',\n",
       "   'publish_date': '2000-12-09',\n",
       "   'description': \"Microsoft's .NET initiative is explored in detail in this deep programmer's reference.\"},\n",
       "  {'@id': 'bk111',\n",
       "   'author': \"O'Brien, Tim\",\n",
       "   'title': 'MSXML3: A Comprehensive Guide',\n",
       "   'genre': 'Computer',\n",
       "   'price': '36.95',\n",
       "   'publish_date': '2000-12-01',\n",
       "   'description': 'The Microsoft MSXML3 parser is covered in detail, with attention to XML DOM interfaces, XSLT processing, SAX and more.'},\n",
       "  {'@id': 'bk112',\n",
       "   'author': 'Galos, Mike',\n",
       "   'title': 'Visual Studio 7: A Comprehensive Guide',\n",
       "   'genre': 'Computer',\n",
       "   'price': '49.95',\n",
       "   'publish_date': '2001-04-16',\n",
       "   'description': 'Microsoft Visual Studio 7 is explored in depth,looking at how Visual Basic, Visual C++, C#, and ASP+ are integrated into a comprehensive development environment.'}]}"
      ]
     },
     "execution_count": 21,
     "metadata": {},
     "output_type": "execute_result"
    }
   ],
   "source": [
    "data['catalog']"
   ]
  },
  {
   "cell_type": "markdown",
   "metadata": {},
   "source": [
    "#### Pretty easy, right? No tags!\n",
    "Unlike using elementTree's find or findall function to navigate XML, you can just stack the brackets on top of one another, so to say.\n",
    "\n",
    "To go a level down, just add another bracket:\n",
    "\n",
    "    >>> data['catalog']['book']"
   ]
  },
  {
   "cell_type": "code",
   "execution_count": 33,
   "metadata": {},
   "outputs": [
    {
     "data": {
      "text/plain": [
       "[{'@id': 'bk101',\n",
       "  'author': 'Gambardella, Matthew',\n",
       "  'title': \"XML Developer's Guide\",\n",
       "  'genre': 'Computer',\n",
       "  'price': '44.95',\n",
       "  'publish_date': '2000-10-01',\n",
       "  'description': 'An in-depth look at creating applications with XML.'},\n",
       " {'@id': 'bk102',\n",
       "  'author': 'Ralls, Kim',\n",
       "  'title': 'Midnight Rain',\n",
       "  'genre': 'Fantasy',\n",
       "  'price': '5.95',\n",
       "  'publish_date': '2000-12-16',\n",
       "  'description': 'A former architect battles corporate zombies, an evil sorceress, and her own childhood to become queen of the world.'},\n",
       " {'@id': 'bk103',\n",
       "  'author': 'Corets, Eva',\n",
       "  'title': 'Maeve Ascendant',\n",
       "  'genre': 'Fantasy',\n",
       "  'price': '5.95',\n",
       "  'publish_date': '2000-11-17',\n",
       "  'description': 'After the collapse of a nanotechnology society in England, the young survivors lay the foundation for a new society.'},\n",
       " {'@id': 'bk104',\n",
       "  'author': 'Corets, Eva',\n",
       "  'title': \"Oberon's Legacy\",\n",
       "  'genre': 'Fantasy',\n",
       "  'price': '5.95',\n",
       "  'publish_date': '2001-03-10',\n",
       "  'description': 'In post-apocalypse England, the mysterious agent known only as Oberon helps to create a new life for the inhabitants of London. Sequel to Maeve Ascendant.'},\n",
       " {'@id': 'bk105',\n",
       "  'author': 'Corets, Eva',\n",
       "  'title': 'The Sundered Grail',\n",
       "  'genre': 'Fantasy',\n",
       "  'price': '5.95',\n",
       "  'publish_date': '2001-09-10',\n",
       "  'description': \"The two daughters of Maeve, half-sisters, battle one another for control of England. Sequel to Oberon's Legacy.\"},\n",
       " {'@id': 'bk106',\n",
       "  'author': 'Randall, Cynthia',\n",
       "  'title': 'Lover Birds',\n",
       "  'genre': 'Romance',\n",
       "  'price': '4.95',\n",
       "  'publish_date': '2000-09-02',\n",
       "  'description': 'When Carla meets Paul at an ornithology conference, tempers fly as feathers get ruffled.'},\n",
       " {'@id': 'bk107',\n",
       "  'author': 'Thurman, Paula',\n",
       "  'title': 'Splish Splash',\n",
       "  'genre': 'Romance',\n",
       "  'price': '4.95',\n",
       "  'publish_date': '2000-11-02',\n",
       "  'description': 'A deep sea diver finds true love twenty thousand leagues beneath the sea.'},\n",
       " {'@id': 'bk108',\n",
       "  'author': 'Knorr, Stefan',\n",
       "  'title': 'Creepy Crawlies',\n",
       "  'genre': 'Horror',\n",
       "  'price': '4.95',\n",
       "  'publish_date': '2000-12-06',\n",
       "  'description': 'An anthology of horror stories about roaches,centipedes, scorpions  and other insects.'},\n",
       " {'@id': 'bk109',\n",
       "  'author': 'Kress, Peter',\n",
       "  'title': 'Paradox Lost',\n",
       "  'genre': 'Science Fiction',\n",
       "  'price': '6.95',\n",
       "  'publish_date': '2000-11-02',\n",
       "  'description': 'After an inadvertant trip through a HeisenbergUncertainty Device, James Salway discovers the problems of being quantum.'},\n",
       " {'@id': 'bk110',\n",
       "  'author': \"O'Brien, Tim\",\n",
       "  'title': 'Microsoft .NET: The Programming Bible',\n",
       "  'genre': 'Computer',\n",
       "  'price': '36.95',\n",
       "  'publish_date': '2000-12-09',\n",
       "  'description': \"Microsoft's .NET initiative is explored in detail in this deep programmer's reference.\"},\n",
       " {'@id': 'bk111',\n",
       "  'author': \"O'Brien, Tim\",\n",
       "  'title': 'MSXML3: A Comprehensive Guide',\n",
       "  'genre': 'Computer',\n",
       "  'price': '36.95',\n",
       "  'publish_date': '2000-12-01',\n",
       "  'description': 'The Microsoft MSXML3 parser is covered in detail, with attention to XML DOM interfaces, XSLT processing, SAX and more.'},\n",
       " {'@id': 'bk112',\n",
       "  'author': 'Galos, Mike',\n",
       "  'title': 'Visual Studio 7: A Comprehensive Guide',\n",
       "  'genre': 'Computer',\n",
       "  'price': '49.95',\n",
       "  'publish_date': '2001-04-16',\n",
       "  'description': 'Microsoft Visual Studio 7 is explored in depth,looking at how Visual Basic, Visual C++, C#, and ASP+ are integrated into a comprehensive development environment.'}]"
      ]
     },
     "execution_count": 33,
     "metadata": {},
     "output_type": "execute_result"
    }
   ],
   "source": [
    "data['catalog']['book']"
   ]
  },
  {
   "cell_type": "markdown",
   "metadata": {},
   "source": [
    "#### Interesting... let's try one level down. Will it work?\n",
    "\n",
    "    >>> data['catalog']['book']['author']"
   ]
  },
  {
   "cell_type": "code",
   "execution_count": 35,
   "metadata": {},
   "outputs": [
    {
     "ename": "TypeError",
     "evalue": "list indices must be integers or slices, not str",
     "output_type": "error",
     "traceback": [
      "\u001b[1;31m---------------------------------------------------------------------------\u001b[0m",
      "\u001b[1;31mTypeError\u001b[0m                                 Traceback (most recent call last)",
      "\u001b[1;32m<ipython-input-35-b82d4195099e>\u001b[0m in \u001b[0;36m<module>\u001b[1;34m\u001b[0m\n\u001b[1;32m----> 1\u001b[1;33m \u001b[0mdata\u001b[0m\u001b[1;33m[\u001b[0m\u001b[1;34m'catalog'\u001b[0m\u001b[1;33m]\u001b[0m\u001b[1;33m[\u001b[0m\u001b[1;34m'book'\u001b[0m\u001b[1;33m]\u001b[0m\u001b[1;33m[\u001b[0m\u001b[1;34m'author'\u001b[0m\u001b[1;33m]\u001b[0m\u001b[1;33m\u001b[0m\u001b[1;33m\u001b[0m\u001b[0m\n\u001b[0m",
      "\u001b[1;31mTypeError\u001b[0m: list indices must be integers or slices, not str"
     ]
    }
   ],
   "source": [
    "data['catalog']['book']['author']"
   ]
  },
  {
   "cell_type": "markdown",
   "metadata": {},
   "source": [
    "#### ERROR! What happened?\n",
    "The error says list indices must be integers of slices, not string... What does this mean? \n",
    "\n",
    "Well, it is looking for an index position, but we gave it a string value. Remember indexing in Python?\n",
    "\n",
    "Why would it be looking for an index position here....? \n",
    "\n",
    "Because there are multiple entries under book! There are 12 books, right? \n",
    "\n",
    "And, what is the first index place in Python? Tack that index position onto the end of it:\n",
    "\n",
    "    >>> data['catalog']['book'][0]"
   ]
  },
  {
   "cell_type": "code",
   "execution_count": 36,
   "metadata": {},
   "outputs": [
    {
     "data": {
      "text/plain": [
       "{'@id': 'bk101',\n",
       " 'author': 'Gambardella, Matthew',\n",
       " 'title': \"XML Developer's Guide\",\n",
       " 'genre': 'Computer',\n",
       " 'price': '44.95',\n",
       " 'publish_date': '2000-10-01',\n",
       " 'description': 'An in-depth look at creating applications with XML.'}"
      ]
     },
     "execution_count": 36,
     "metadata": {},
     "output_type": "execute_result"
    }
   ],
   "source": [
    "data['catalog']['book'][0]"
   ]
  },
  {
   "cell_type": "markdown",
   "metadata": {},
   "source": [
    "#### Nice! Now you're viewing just one. Change the index to anything between 0 and 11 and you can access any of the 12 books. \n",
    "\n",
    "    >>> data['catalog']['book'][6]\n",
    "\n",
    "#### But, what happens if you put index position 12 in the bracket? (Note that the final one is 11)"
   ]
  },
  {
   "cell_type": "code",
   "execution_count": 40,
   "metadata": {},
   "outputs": [
    {
     "ename": "IndexError",
     "evalue": "list index out of range",
     "output_type": "error",
     "traceback": [
      "\u001b[1;31m---------------------------------------------------------------------------\u001b[0m",
      "\u001b[1;31mIndexError\u001b[0m                                Traceback (most recent call last)",
      "\u001b[1;32m<ipython-input-40-add182f4b990>\u001b[0m in \u001b[0;36m<module>\u001b[1;34m\u001b[0m\n\u001b[1;32m----> 1\u001b[1;33m \u001b[0mdata\u001b[0m\u001b[1;33m[\u001b[0m\u001b[1;34m'catalog'\u001b[0m\u001b[1;33m]\u001b[0m\u001b[1;33m[\u001b[0m\u001b[1;34m'book'\u001b[0m\u001b[1;33m]\u001b[0m\u001b[1;33m[\u001b[0m\u001b[1;36m12\u001b[0m\u001b[1;33m]\u001b[0m\u001b[1;33m\u001b[0m\u001b[1;33m\u001b[0m\u001b[0m\n\u001b[0m",
      "\u001b[1;31mIndexError\u001b[0m: list index out of range"
     ]
    }
   ],
   "source": [
    "data['catalog']['book'][12]"
   ]
  },
  {
   "cell_type": "markdown",
   "metadata": {},
   "source": [
    "#### But, as before, we want to extract these data from each book. \n",
    "\n",
    "This calls for an iteration! Deploy a for loop.\n",
    "\n",
    "But first, make it easier on yourself and store your book data as a variable:\n",
    "\n",
    "    >>> books = data['catalog']['book']"
   ]
  },
  {
   "cell_type": "code",
   "execution_count": 25,
   "metadata": {},
   "outputs": [],
   "source": [
    "books = data['catalog']['book']"
   ]
  },
  {
   "cell_type": "markdown",
   "metadata": {},
   "source": [
    "#### Now work on iterating...\n",
    "\n",
    "    >>> for book in books:\n",
    "            print(book)"
   ]
  },
  {
   "cell_type": "code",
   "execution_count": 37,
   "metadata": {},
   "outputs": [
    {
     "name": "stdout",
     "output_type": "stream",
     "text": [
      "{'@id': 'bk101', 'author': 'Gambardella, Matthew', 'title': \"XML Developer's Guide\", 'genre': 'Computer', 'price': '44.95', 'publish_date': '2000-10-01', 'description': 'An in-depth look at creating applications with XML.'}\n",
      "{'@id': 'bk102', 'author': 'Ralls, Kim', 'title': 'Midnight Rain', 'genre': 'Fantasy', 'price': '5.95', 'publish_date': '2000-12-16', 'description': 'A former architect battles corporate zombies, an evil sorceress, and her own childhood to become queen of the world.'}\n",
      "{'@id': 'bk103', 'author': 'Corets, Eva', 'title': 'Maeve Ascendant', 'genre': 'Fantasy', 'price': '5.95', 'publish_date': '2000-11-17', 'description': 'After the collapse of a nanotechnology society in England, the young survivors lay the foundation for a new society.'}\n",
      "{'@id': 'bk104', 'author': 'Corets, Eva', 'title': \"Oberon's Legacy\", 'genre': 'Fantasy', 'price': '5.95', 'publish_date': '2001-03-10', 'description': 'In post-apocalypse England, the mysterious agent known only as Oberon helps to create a new life for the inhabitants of London. Sequel to Maeve Ascendant.'}\n",
      "{'@id': 'bk105', 'author': 'Corets, Eva', 'title': 'The Sundered Grail', 'genre': 'Fantasy', 'price': '5.95', 'publish_date': '2001-09-10', 'description': \"The two daughters of Maeve, half-sisters, battle one another for control of England. Sequel to Oberon's Legacy.\"}\n",
      "{'@id': 'bk106', 'author': 'Randall, Cynthia', 'title': 'Lover Birds', 'genre': 'Romance', 'price': '4.95', 'publish_date': '2000-09-02', 'description': 'When Carla meets Paul at an ornithology conference, tempers fly as feathers get ruffled.'}\n",
      "{'@id': 'bk107', 'author': 'Thurman, Paula', 'title': 'Splish Splash', 'genre': 'Romance', 'price': '4.95', 'publish_date': '2000-11-02', 'description': 'A deep sea diver finds true love twenty thousand leagues beneath the sea.'}\n",
      "{'@id': 'bk108', 'author': 'Knorr, Stefan', 'title': 'Creepy Crawlies', 'genre': 'Horror', 'price': '4.95', 'publish_date': '2000-12-06', 'description': 'An anthology of horror stories about roaches,centipedes, scorpions  and other insects.'}\n",
      "{'@id': 'bk109', 'author': 'Kress, Peter', 'title': 'Paradox Lost', 'genre': 'Science Fiction', 'price': '6.95', 'publish_date': '2000-11-02', 'description': 'After an inadvertant trip through a HeisenbergUncertainty Device, James Salway discovers the problems of being quantum.'}\n",
      "{'@id': 'bk110', 'author': \"O'Brien, Tim\", 'title': 'Microsoft .NET: The Programming Bible', 'genre': 'Computer', 'price': '36.95', 'publish_date': '2000-12-09', 'description': \"Microsoft's .NET initiative is explored in detail in this deep programmer's reference.\"}\n",
      "{'@id': 'bk111', 'author': \"O'Brien, Tim\", 'title': 'MSXML3: A Comprehensive Guide', 'genre': 'Computer', 'price': '36.95', 'publish_date': '2000-12-01', 'description': 'The Microsoft MSXML3 parser is covered in detail, with attention to XML DOM interfaces, XSLT processing, SAX and more.'}\n",
      "{'@id': 'bk112', 'author': 'Galos, Mike', 'title': 'Visual Studio 7: A Comprehensive Guide', 'genre': 'Computer', 'price': '49.95', 'publish_date': '2001-04-16', 'description': 'Microsoft Visual Studio 7 is explored in depth,looking at how Visual Basic, Visual C++, C#, and ASP+ are integrated into a comprehensive development environment.'}\n"
     ]
    }
   ],
   "source": [
    "for book in books:\n",
    "    print(book)"
   ]
  },
  {
   "cell_type": "markdown",
   "metadata": {},
   "source": [
    "#### As we did with XML, loop over the books and create variables for individual elements, like so:\n",
    "\n",
    "    >>> for book in books:\n",
    "            auth = book['author']\n",
    "            title = book['title']\n",
    "            print(auth, title)"
   ]
  },
  {
   "cell_type": "code",
   "execution_count": 38,
   "metadata": {},
   "outputs": [
    {
     "name": "stdout",
     "output_type": "stream",
     "text": [
      "Gambardella, Matthew XML Developer's Guide\n",
      "Ralls, Kim Midnight Rain\n",
      "Corets, Eva Maeve Ascendant\n",
      "Corets, Eva Oberon's Legacy\n",
      "Corets, Eva The Sundered Grail\n",
      "Randall, Cynthia Lover Birds\n",
      "Thurman, Paula Splish Splash\n",
      "Knorr, Stefan Creepy Crawlies\n",
      "Kress, Peter Paradox Lost\n",
      "O'Brien, Tim Microsoft .NET: The Programming Bible\n",
      "O'Brien, Tim MSXML3: A Comprehensive Guide\n",
      "Galos, Mike Visual Studio 7: A Comprehensive Guide\n"
     ]
    }
   ],
   "source": [
    "for book in books:\n",
    "    auth = book['author']\n",
    "    title = book['title']\n",
    "    print(auth, title)"
   ]
  },
  {
   "cell_type": "markdown",
   "metadata": {},
   "source": [
    "#### Pretty easy, I hope!\n",
    "\n",
    "Now, as before, build your csv writer into the loop and create an output csv.\n",
    "\n",
    "### You're on your own this time! \n",
    "*Tip: do what all coders do, take code from elsewhere and adapt. Everything you need to start with is in the previous notebook*"
   ]
  },
  {
   "cell_type": "code",
   "execution_count": null,
   "metadata": {},
   "outputs": [],
   "source": []
  }
 ],
 "metadata": {
  "kernelspec": {
   "display_name": "Python 3",
   "language": "python",
   "name": "python3"
  },
  "language_info": {
   "codemirror_mode": {
    "name": "ipython",
    "version": 3
   },
   "file_extension": ".py",
   "mimetype": "text/x-python",
   "name": "python",
   "nbconvert_exporter": "python",
   "pygments_lexer": "ipython3",
   "version": "3.7.4"
  }
 },
 "nbformat": 4,
 "nbformat_minor": 2
}
