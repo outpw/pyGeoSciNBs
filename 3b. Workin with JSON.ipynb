{
 "cells": [
  {
   "cell_type": "markdown",
   "metadata": {},
   "source": [
    "## Workin' with JSON\n",
    "\n",
    "JavaScript Object Notation is another data format often used by APIs. It is similar to XML in that it is nested, or hierarchical. Some say it is easier to work with than XML. \n",
    "\n",
    "In terms of data exchange on the internet, it is very popular with developers. If you're working with APIs, you're more likely to encounter JSON than XML. Some APIs provide data in either format, others one or the other. But most REST APIs are JSON. \n",
    "\n",
    "You can quickly tell if something is JSON formatted by the curly brackets: { }. In contrast to XML, which uses tags: < >. \n",
    "\n",
    "Working with JSON in Python is pretty easy because the tags are removed. Instead of tags, there are key/value relationships. Or, in Python speak, you can work with JSON as if it is a Python dictionary. The earlier notebooks didn't cover that, so don't worry about the details here. :-) \n",
    "\n",
    "    >>> import json\n",
    "    >>> import os\n",
    "    >>> import csv"
   ]
  },
  {
   "cell_type": "code",
   "execution_count": null,
   "metadata": {},
   "outputs": [],
   "source": []
  },
  {
   "cell_type": "markdown",
   "metadata": {},
   "source": [
    "#### As before, open the file\n",
    "\n",
    "The same book catalog data is also in the home directory in json format. Open the file and store it as a variable named 'file'\n",
    "\n",
    "    >>> file = open('books.json')\n",
    "    >>> file"
   ]
  },
  {
   "cell_type": "code",
   "execution_count": null,
   "metadata": {},
   "outputs": [],
   "source": []
  },
  {
   "cell_type": "code",
   "execution_count": null,
   "metadata": {},
   "outputs": [],
   "source": []
  },
  {
   "cell_type": "markdown",
   "metadata": {},
   "source": [
    "#### Use the json.load() function to read 'file' as JSON.\n",
    "\n",
    "The JSON library lets Python read JSON. Store it as a new variable named 'data'\n",
    "\n",
    "    >>> data = json.load(file)"
   ]
  },
  {
   "cell_type": "code",
   "execution_count": null,
   "metadata": {},
   "outputs": [],
   "source": []
  },
  {
   "cell_type": "markdown",
   "metadata": {},
   "source": [
    "#### Let's take a look at the data.\n",
    "\n",
    "You can use the print() function, however, it will display better if you just run 'data' on it's on. Try both to see the difference.\n",
    "\n",
    "    >>> print(data)\n",
    "    >>> data\n",
    "    \n",
    "*Take a minute to review this format and compare to the same data in XML*"
   ]
  },
  {
   "cell_type": "code",
   "execution_count": null,
   "metadata": {},
   "outputs": [],
   "source": []
  },
  {
   "cell_type": "markdown",
   "metadata": {},
   "source": [
    "#### Navigating JSON with Python is pretty easy...\n",
    "\n",
    "Just list the next lowest element on the hierarchy in brackets, like this:\n",
    "\n",
    "    >>> data['catalog']"
   ]
  },
  {
   "cell_type": "code",
   "execution_count": null,
   "metadata": {},
   "outputs": [],
   "source": []
  },
  {
   "cell_type": "markdown",
   "metadata": {},
   "source": [
    "#### Pretty easy, right? No tags!\n",
    "Unlike using elementTree's find or findall function to navigate XML, you can just stack the brackets on top of one another, so to say.\n",
    "\n",
    "To go a level down, just add another bracket:\n",
    "\n",
    "    >>> data['catalog']['book']"
   ]
  },
  {
   "cell_type": "code",
   "execution_count": null,
   "metadata": {},
   "outputs": [],
   "source": []
  },
  {
   "cell_type": "markdown",
   "metadata": {},
   "source": [
    "#### Interesting... let's try one level down. Will it work?\n",
    "\n",
    "    >>> data['catalog']['book']['author']"
   ]
  },
  {
   "cell_type": "code",
   "execution_count": null,
   "metadata": {},
   "outputs": [],
   "source": []
  },
  {
   "cell_type": "markdown",
   "metadata": {},
   "source": [
    "#### ERROR! What happened?\n",
    "The error says list indices must be integers of slices, not string... What does this mean? \n",
    "\n",
    "Well, it is looking for an index position, but we gave it a string value. Remember indexing in Python?\n",
    "\n",
    "Why would it be looking for an index position here....? \n",
    "\n",
    "Because there are multiple entries under book! There are 12 books, right? \n",
    "\n",
    "And, what is the first index place in Python? Tack that index position onto the end of it:\n",
    "\n",
    "    >>> data['catalog']['book'][0]"
   ]
  },
  {
   "cell_type": "code",
   "execution_count": null,
   "metadata": {},
   "outputs": [],
   "source": []
  },
  {
   "cell_type": "markdown",
   "metadata": {},
   "source": [
    "#### Nice! Now you're viewing just one. Change the index to anything between 0 and 11 and you can access any of the 12 books. \n",
    "\n",
    "    >>> data['catalog']['book'][6]\n",
    "\n",
    "#### But, what happens if you put index position 12 in the bracket? (Note that the final one is 11)"
   ]
  },
  {
   "cell_type": "code",
   "execution_count": null,
   "metadata": {},
   "outputs": [],
   "source": []
  },
  {
   "cell_type": "markdown",
   "metadata": {},
   "source": [
    "#### But, as before, we want to extract these data from each book. \n",
    "\n",
    "This calls for an iteration! Deploy a for loop.\n",
    "\n",
    "But first, make it easier on yourself and store your book data as a variable:\n",
    "\n",
    "    >>> books = data['catalog']['book']"
   ]
  },
  {
   "cell_type": "code",
   "execution_count": null,
   "metadata": {},
   "outputs": [],
   "source": []
  },
  {
   "cell_type": "markdown",
   "metadata": {},
   "source": [
    "#### Now work on iterating...\n",
    "\n",
    "    >>> for book in books:\n",
    "            print(book)"
   ]
  },
  {
   "cell_type": "code",
   "execution_count": null,
   "metadata": {},
   "outputs": [],
   "source": []
  },
  {
   "cell_type": "markdown",
   "metadata": {},
   "source": [
    "#### As we did with XML, loop over the books and create variables for individual elements, like so:\n",
    "\n",
    "    >>> for book in books:\n",
    "            auth = book['author']\n",
    "            title = book['title']\n",
    "            print(auth, title)"
   ]
  },
  {
   "cell_type": "code",
   "execution_count": null,
   "metadata": {},
   "outputs": [],
   "source": []
  },
  {
   "cell_type": "markdown",
   "metadata": {},
   "source": [
    "#### Pretty easy, I hope!\n",
    "\n",
    "Now, as before, build your csv writer into the loop and create an output csv.\n",
    "\n",
    "### You're on your own this time! \n",
    "*Tip: do what all coders do, take code from elsewhere and adapt. Everything you need to start with is in the previous notebook*"
   ]
  },
  {
   "cell_type": "code",
   "execution_count": null,
   "metadata": {},
   "outputs": [],
   "source": []
  }
 ],
 "metadata": {
  "kernelspec": {
   "display_name": "Python 3",
   "language": "python",
   "name": "python3"
  },
  "language_info": {
   "codemirror_mode": {
    "name": "ipython",
    "version": 3
   },
   "file_extension": ".py",
   "mimetype": "text/x-python",
   "name": "python",
   "nbconvert_exporter": "python",
   "pygments_lexer": "ipython3",
   "version": "3.7.4"
  }
 },
 "nbformat": 4,
 "nbformat_minor": 2
}
