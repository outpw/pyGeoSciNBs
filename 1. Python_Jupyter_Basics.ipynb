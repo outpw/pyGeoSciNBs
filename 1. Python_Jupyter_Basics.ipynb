{
 "cells": [
  {
   "cell_type": "markdown",
   "metadata": {},
   "source": [
    "## This is a notebook!\n",
    "\n",
    "Or, more specifically, a [Jupyter Notebook](https://jupyter.org/).\n",
    "\n",
    "Jupyter Notebooks are great because you can execute code in little chunks in the cells. This is helpful for developing a new program because it makes it easy to find where the errors are in your code. Instead of writing one long script and running it, you write little pieces and execute them separately. \n",
    "\n",
    "Plus, notebooks are great for documentation. The text you are reading is formatted in [Markdown](https://www.markdownguide.org/cheat-sheet/). Each cell defaults to Python, but you can change the type of text entered into each cell to Markdown as well to add notes or instructions. Double click this text to view or edit the Markdown. Press shift+enter to exit edit mode. \n",
    "\n",
    "In this Notebook, you'll go over basic Python commands like print(), variables, data types, and loops.\n",
    "\n",
    "#### In the cell below, type the following:\n",
    "\n",
    "    >>> print('hello')\n",
    "\n",
    "Then press shift+enter to run the code\n",
    "    \n",
    "('>>>' represents the Python prompt, you don't need to type this, it just means that there is some code following it)"
   ]
  },
  {
   "cell_type": "code",
   "execution_count": 1,
   "metadata": {},
   "outputs": [
    {
     "name": "stdout",
     "output_type": "stream",
     "text": [
      "hello\n"
     ]
    }
   ],
   "source": [
    "print('hello')"
   ]
  },
  {
   "cell_type": "markdown",
   "metadata": {},
   "source": [
    "Nice! you printed something. The print() function is super helpful for debugging (aka finding mistakes in your code)\n",
    "\n",
    "Try printing something else. Just put whatever you want in between the parentheses:"
   ]
  },
  {
   "cell_type": "code",
   "execution_count": null,
   "metadata": {},
   "outputs": [],
   "source": []
  },
  {
   "cell_type": "markdown",
   "metadata": {},
   "source": [
    "### Let's talk about datatypes\n",
    "\n",
    "There are a few different [datatypes](https://www.w3schools.com/python/python_datatypes.asp) in Python. Notice above that we put single quotes around the word hello... like 'hello'. This means it is a string (aka text). Anything within single or double quotes is a string. You can also use integers (aka numbers)\n",
    "\n",
    "Try printing the following:\n",
    "\n",
    "    >>> print(10)"
   ]
  },
  {
   "cell_type": "code",
   "execution_count": 3,
   "metadata": {},
   "outputs": [
    {
     "name": "stdout",
     "output_type": "stream",
     "text": [
      "10\n"
     ]
    }
   ],
   "source": [
    "print(10)"
   ]
  },
  {
   "cell_type": "markdown",
   "metadata": {},
   "source": [
    "That's an integer (no quotes). \n",
    "\n",
    "#### Let's do some math:\n",
    "\n",
    "    >>> print(1 + 1 + 2)"
   ]
  },
  {
   "cell_type": "code",
   "execution_count": 4,
   "metadata": {},
   "outputs": [
    {
     "name": "stdout",
     "output_type": "stream",
     "text": [
      "4\n"
     ]
    }
   ],
   "source": [
    "print(1+1+2)"
   ]
  },
  {
   "cell_type": "markdown",
   "metadata": {},
   "source": [
    "We can also print a string of text together with some numbers. You just need to separate them by a comma within the parantheses. Try the following:\n",
    "\n",
    "    >>> print('I can do math, see:' , 8 * 8)"
   ]
  },
  {
   "cell_type": "code",
   "execution_count": 5,
   "metadata": {},
   "outputs": [
    {
     "name": "stdout",
     "output_type": "stream",
     "text": [
      "I can do math, see: 64\n"
     ]
    }
   ],
   "source": [
    "print('I can do math, see:' , 8*8)"
   ]
  },
  {
   "cell_type": "markdown",
   "metadata": {},
   "source": [
    "## Fun! \n",
    "\n",
    "#### Let's talk variables for a sec:\n",
    "\n",
    "A variable is a way to store some value for later use. You'll find many reasons for doing this. Mostly, it makes things easier. Creating a variable is easy. Create a basic string variable in the cell below like this:\n",
    "\n",
    "    >>> phrase = 'I can do math, see:' "
   ]
  },
  {
   "cell_type": "code",
   "execution_count": 6,
   "metadata": {},
   "outputs": [],
   "source": [
    "phrase = 'I can do math, see:'"
   ]
  },
  {
   "cell_type": "markdown",
   "metadata": {},
   "source": [
    "Note that after you ran that cell, nothing happened. That's usually a good thing! It means no errors. \n",
    "\n",
    "Now, make your math problem a variable: \n",
    "\n",
    "    >>> mathProb = 8*8"
   ]
  },
  {
   "cell_type": "code",
   "execution_count": 7,
   "metadata": {},
   "outputs": [],
   "source": [
    "mathProb = 8*8"
   ]
  },
  {
   "cell_type": "markdown",
   "metadata": {},
   "source": [
    "Okay, you've made a string variable and a integer variable. Print them together like so: \n",
    "\n",
    "    >>> print(phrase, mathProb)"
   ]
  },
  {
   "cell_type": "code",
   "execution_count": 8,
   "metadata": {},
   "outputs": [
    {
     "name": "stdout",
     "output_type": "stream",
     "text": [
      "I can do math, see: 64\n"
     ]
    }
   ],
   "source": [
    "print(phrase, mathProb)"
   ]
  },
  {
   "cell_type": "markdown",
   "metadata": {},
   "source": [
    "###### Let's talk functions:\n",
    "\n",
    "print() represents the Python print function. There are *many* functions in Python. Many are built right in. You can also create your own. \n",
    "\n",
    "Try the round() function on each of the following: \n",
    "\n",
    "    >>>round(2.4)\n",
    "    >>>round(2.6)\n",
    "    >>>round(2.6 + 47)"
   ]
  },
  {
   "cell_type": "code",
   "execution_count": 17,
   "metadata": {},
   "outputs": [
    {
     "data": {
      "text/plain": [
       "50"
      ]
     },
     "execution_count": 17,
     "metadata": {},
     "output_type": "execute_result"
    }
   ],
   "source": [
    "round(2.6 +47)"
   ]
  },
  {
   "cell_type": "markdown",
   "metadata": {},
   "source": [
    "### Lists:\n",
    "\n",
    "Lists are super handy. You can make lists out of any data type. A list in Python is enclosed with the square bracket [ ]. \n",
    "\n",
    "Let's create list and store it as a variable: \n",
    "\n",
    "    >>> myList = ['its', 'my', 'party']"
   ]
  },
  {
   "cell_type": "code",
   "execution_count": 23,
   "metadata": {},
   "outputs": [],
   "source": [
    "myList = ['its', 'my', 'party']"
   ]
  },
  {
   "cell_type": "markdown",
   "metadata": {},
   "source": [
    "#### Indexing:\n",
    "\n",
    "In Python, lists begin at 0, not 1. So, even though there are three items in the list we created, you would count them zero, one, two. These refer to their index positions. When accessing items in a list, you refer to it's index position.\n",
    "\n",
    "Run the following examples:\n",
    "\n",
    "    >>> print(myList[0])\n",
    "    >>> print(myList[1])\n",
    "    >>> print(myList[2])"
   ]
  },
  {
   "cell_type": "code",
   "execution_count": null,
   "metadata": {},
   "outputs": [],
   "source": []
  },
  {
   "cell_type": "markdown",
   "metadata": {},
   "source": [
    "You can use the len() function to figure out the length of a list:\n",
    "\n",
    "    >>> len(myList)"
   ]
  },
  {
   "cell_type": "code",
   "execution_count": 28,
   "metadata": {},
   "outputs": [
    {
     "data": {
      "text/plain": [
       "3"
      ]
     },
     "execution_count": 28,
     "metadata": {},
     "output_type": "execute_result"
    }
   ],
   "source": [
    "len(myList)"
   ]
  },
  {
   "cell_type": "markdown",
   "metadata": {},
   "source": [
    "You can use similar methods on strings. Create the following string variable, then try the same methods on just the word:\n",
    "\n",
    "    >>> word = 'geosciences'\n",
    "    >>> len(word)\n",
    "    >>> print(word[0])\n",
    "    >>> print(word[8])"
   ]
  },
  {
   "cell_type": "code",
   "execution_count": 29,
   "metadata": {},
   "outputs": [],
   "source": [
    "word = 'geosciences'"
   ]
  },
  {
   "cell_type": "code",
   "execution_count": 32,
   "metadata": {},
   "outputs": [
    {
     "name": "stdout",
     "output_type": "stream",
     "text": [
      "c\n"
     ]
    }
   ],
   "source": [
    "print(word[8])"
   ]
  },
  {
   "cell_type": "markdown",
   "metadata": {},
   "source": [
    "There are other ways to use indexing to access items in a list. Try the following:\n",
    "\n",
    "    >>> word[0:3]\n",
    "    >>> word[0:]\n",
    "    >>> word[1:4]\n",
    "    >>> word[3:10]\n",
    "    >>> word[:3]\n",
    "\n",
    "Do some experimenting!"
   ]
  },
  {
   "cell_type": "code",
   "execution_count": null,
   "metadata": {},
   "outputs": [],
   "source": []
  },
  {
   "cell_type": "markdown",
   "metadata": {},
   "source": [
    "## Loops!\n",
    "\n",
    "Loops are your best friend and allow you to automate tasks. A loop performs the same action on a series of items. \n",
    "\n",
    "When constructing a for loop, you must include a colon after the first line, then an indent for the second and subsequent lines. Everything within the loop should be indented. (Most interactive coding environments (like Jupyter) will recognize this and indent it for you). See the example below...\n",
    "\n",
    "For example, it could do the same thing on each item in a list: \n",
    "\n",
    "    >>>for letter in word:\n",
    "           print (letter)"
   ]
  },
  {
   "cell_type": "code",
   "execution_count": 43,
   "metadata": {},
   "outputs": [
    {
     "name": "stdout",
     "output_type": "stream",
     "text": [
      "g\n",
      "e\n",
      "o\n",
      "s\n",
      "c\n",
      "i\n",
      "e\n",
      "n\n",
      "c\n",
      "e\n",
      "s\n"
     ]
    }
   ],
   "source": [
    "for letter in word:\n",
    "    print (letter)"
   ]
  },
  {
   "cell_type": "markdown",
   "metadata": {},
   "source": [
    "\"Letter\" was arbitrary. You could name the thing you're looping over anything you want:\n",
    "\n",
    "    >>> for x in word:\n",
    "            print(x)"
   ]
  },
  {
   "cell_type": "code",
   "execution_count": 44,
   "metadata": {},
   "outputs": [
    {
     "name": "stdout",
     "output_type": "stream",
     "text": [
      "g\n",
      "e\n",
      "o\n",
      "s\n",
      "c\n",
      "i\n",
      "e\n",
      "n\n",
      "c\n",
      "e\n",
      "s\n"
     ]
    }
   ],
   "source": [
    "for x in word:\n",
    "    print (x)"
   ]
  },
  {
   "cell_type": "markdown",
   "metadata": {},
   "source": [
    "    >>> for iceCreamCone in word:\n",
    "            print(iceCreamCone)"
   ]
  },
  {
   "cell_type": "code",
   "execution_count": 45,
   "metadata": {},
   "outputs": [
    {
     "name": "stdout",
     "output_type": "stream",
     "text": [
      "g\n",
      "e\n",
      "o\n",
      "s\n",
      "c\n",
      "i\n",
      "e\n",
      "n\n",
      "c\n",
      "e\n",
      "s\n"
     ]
    }
   ],
   "source": [
    "for iceCreamCone in word:\n",
    "    print(iceCreamCone)"
   ]
  },
  {
   "cell_type": "markdown",
   "metadata": {},
   "source": [
    "Say you had a list of numbers you wanted to perform the same math on:\n",
    "\n",
    "Create a list of numbers: \n",
    "\n",
    "    >>> numList = [1, 2, 3, 10, 20, 33, 584]"
   ]
  },
  {
   "cell_type": "code",
   "execution_count": 46,
   "metadata": {},
   "outputs": [],
   "source": [
    "numList = [1, 2, 3, 10, 20, 33, 584]"
   ]
  },
  {
   "cell_type": "markdown",
   "metadata": {},
   "source": [
    "Now do something to those numbers in a for loop: \n",
    "\n",
    "    >>> for num in numList:\n",
    "            ans = num *3\n",
    "            print(ans)"
   ]
  },
  {
   "cell_type": "code",
   "execution_count": 47,
   "metadata": {},
   "outputs": [
    {
     "name": "stdout",
     "output_type": "stream",
     "text": [
      "3\n",
      "6\n",
      "9\n",
      "30\n",
      "60\n",
      "99\n",
      "1752\n"
     ]
    }
   ],
   "source": [
    "for num in numList:\n",
    "    ans = num *3\n",
    "    print(ans)"
   ]
  },
  {
   "cell_type": "markdown",
   "metadata": {},
   "source": [
    "You can do multiple procedures in a loop:\n",
    "\n",
    "    >>>for num in numList:\n",
    "           ans = num * 3\n",
    "           ans2 = ans -1\n",
    "           print(ans, ans2)"
   ]
  },
  {
   "cell_type": "code",
   "execution_count": 48,
   "metadata": {},
   "outputs": [
    {
     "name": "stdout",
     "output_type": "stream",
     "text": [
      "3 2\n",
      "6 5\n",
      "9 8\n",
      "30 29\n",
      "60 59\n",
      "99 98\n",
      "1752 1751\n"
     ]
    }
   ],
   "source": [
    "for num in numList:\n",
    "    ans = num*3\n",
    "    ans2 = ans -1\n",
    "    print(ans, ans2)"
   ]
  },
  {
   "cell_type": "markdown",
   "metadata": {},
   "source": [
    "#### Let's talk about logic for a hot sec...\n",
    "\n",
    "IF and ELSE statements can be used in Python to insert some sort of logic into your code. We'll cover have to take a look into this later, but, as a primer.\n",
    "\n",
    "As a basic example, start by creating a new variable that is the answer of a simple math problem:\n",
    "\n",
    "    >>> ans = 4+4"
   ]
  },
  {
   "cell_type": "code",
   "execution_count": 2,
   "metadata": {},
   "outputs": [],
   "source": [
    "ans = 4+4"
   ]
  },
  {
   "cell_type": "markdown",
   "metadata": {},
   "source": [
    "#### Now we'll use an IF ELSE sequence to make Python check the answer:\n",
    "\n",
    "As with a for loop, you must place a colon after the if statement, then everything within the statement should be indented.\n",
    "\n",
    "The else statement goes back in line with the if statement and also requires a colon and subsequent indent.\n",
    "\n",
    "Try this:\n",
    "\n",
    "    >>> if ans == 8:\n",
    "            print ('correct!')\n",
    "        else:\n",
    "            print('wrong!')\n",
    "\n",
    "*Note: in Python, use of a single '=' means you're creating a variable. By using the double '==' you're saying one thing is equal to another."
   ]
  },
  {
   "cell_type": "code",
   "execution_count": 3,
   "metadata": {},
   "outputs": [
    {
     "name": "stdout",
     "output_type": "stream",
     "text": [
      "correct!\n"
     ]
    }
   ],
   "source": [
    "if ans == 8:\n",
    "    print ('correct!')\n",
    "else:\n",
    "    print('wrong!')"
   ]
  },
  {
   "cell_type": "markdown",
   "metadata": {},
   "source": [
    "#### Now change your ans variable to something else and run the same if else sequence:\n",
    "\n",
    "    >>> ans = 4 + 2\n",
    "\n",
    "then\n",
    "\n",
    "    >>> if ans == 8:\n",
    "            print ('correct!')\n",
    "        else:\n",
    "            print('wrong!')"
   ]
  },
  {
   "cell_type": "code",
   "execution_count": 4,
   "metadata": {},
   "outputs": [],
   "source": [
    "ans = 4 + 2"
   ]
  },
  {
   "cell_type": "code",
   "execution_count": 5,
   "metadata": {},
   "outputs": [
    {
     "name": "stdout",
     "output_type": "stream",
     "text": [
      "wrong!\n"
     ]
    }
   ],
   "source": [
    "if ans == 8:\n",
    "    print('correct!')\n",
    "else: \n",
    "    print('wrong!')"
   ]
  },
  {
   "cell_type": "markdown",
   "metadata": {},
   "source": [
    "## *Good times!*"
   ]
  },
  {
   "cell_type": "markdown",
   "metadata": {},
   "source": [
    "#### PS: a word on errors.\n",
    "\n",
    "Errors happen all the time. Oftentimes, it's simply a typo, syntax, or formatting error. Check for those first. Other times, it means you're using the code incorrectly. Sometimes the error message is informative, other times not so much. Google the error message and try to find a solution. It's very likely someone has had the same problem, solved it, and documented it on the internet. "
   ]
  },
  {
   "cell_type": "code",
   "execution_count": null,
   "metadata": {},
   "outputs": [],
   "source": []
  }
 ],
 "metadata": {
  "kernelspec": {
   "display_name": "Python 3",
   "language": "python",
   "name": "python3"
  },
  "language_info": {
   "codemirror_mode": {
    "name": "ipython",
    "version": 3
   },
   "file_extension": ".py",
   "mimetype": "text/x-python",
   "name": "python",
   "nbconvert_exporter": "python",
   "pygments_lexer": "ipython3",
   "version": "3.7.4"
  }
 },
 "nbformat": 4,
 "nbformat_minor": 2
}
